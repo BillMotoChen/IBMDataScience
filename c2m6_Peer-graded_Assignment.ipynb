{
 "cells": [
  {
   "cell_type": "markdown",
   "id": "794132ba-536c-49cd-a2a3-c3020c65130b",
   "metadata": {},
   "source": [
    "Exercise 2 - Create a markdown cell with the title of the notebook.\n",
    "\n",
    "# Course 2 Module 6 - Submit Your Work and Grade Your Peers"
   ]
  },
  {
   "cell_type": "markdown",
   "id": "a4df039f-a822-491e-b348-1275da6d35c0",
   "metadata": {},
   "source": [
    "Exercise 3 - Create a markdown cell for an introduction.\n",
    "\n",
    "Introduction - Notebook for Course 2 Module 6 Peer-Graded Assignment"
   ]
  },
  {
   "cell_type": "markdown",
   "id": "685d4388-8603-4091-8f1b-64393e3b533f",
   "metadata": {},
   "source": [
    "Exercise 4 - Create a markdown cell to list data science languages.\n",
    "\n",
    "1. Python\n",
    "2. R\n",
    "3. SQL\n",
    "4. Julia\n",
    "5. Scala\n",
    "6. C/C++\n",
    "7. Java\n",
    "8. JavaScript"
   ]
  },
  {
   "cell_type": "markdown",
   "id": "58fe255c-7d0e-44c8-9e19-b61547b17b26",
   "metadata": {},
   "source": [
    "Exercise 5 - Create a markdown cell to list data science libraries.\n",
    "\n",
    "1. NumPy\n",
    "2. SciPy\n",
    "3. Tensorflow\n",
    "4. Pandas\n",
    "5. Matplotlib\n",
    "6. BeautifulSoup\n",
    "7. Caffe2, PyTorch\n",
    "8. Scrapy\n",
    "9. SciKit-Learn\n",
    "10. Seaborn\n",
    "11. Keras"
   ]
  },
  {
   "cell_type": "markdown",
   "id": "14375baf-b4b3-41aa-9643-b225b66eed42",
   "metadata": {},
   "source": [
    "Exercise 6 - Create a markdown cell with a table of Data Science tools.\n",
    "\n",
    "|Data Science Tool |\n",
    "|------------------|\n",
    "|Jupyter Notebook|\n",
    "|RStudio|\n",
    "|Apache Hadoop|\n",
    "|Apache Spark|\n",
    "|SAS|\n",
    "|MATLAB|"
   ]
  },
  {
   "cell_type": "markdown",
   "id": "1f8b95f5-99c6-49c4-bc95-44e03906d6d7",
   "metadata": {},
   "source": [
    "Exercise 7 - Create a markdown cell introducing arithmetic expression examples.\n",
    "\n",
    "### Addition:\n",
    "   - `10 + 7 + 13` evaluates to 30\n",
    "\n",
    "### Subtraction:\n",
    "   - `15 - 6 - 3` evaluates to 6\n",
    "\n",
    "### Multiplication:\n",
    "   - `3 * 3 * 2` evaluates to 18\n",
    "\n",
    "### Division:\n",
    "   - `15 / 3 / 2` evaluates to 2.5"
   ]
  },
  {
   "cell_type": "code",
   "execution_count": 4,
   "id": "76dfa917-43f2-4c9a-bff1-e37e25d090cd",
   "metadata": {},
   "outputs": [
    {
     "data": {
      "text/plain": [
       "17"
      ]
     },
     "execution_count": 4,
     "metadata": {},
     "output_type": "execute_result"
    }
   ],
   "source": [
    "# Exercise 8 - Create a code cell to multiply and add numbers. (2 pts)\n",
    "(3*4)+5\n",
    "# Result = 17"
   ]
  },
  {
   "cell_type": "code",
   "execution_count": 6,
   "id": "997c4b04-4504-448c-8a14-e7356a79d312",
   "metadata": {},
   "outputs": [
    {
     "data": {
      "text/plain": [
       "3.3333333333333335"
      ]
     },
     "execution_count": 6,
     "metadata": {},
     "output_type": "execute_result"
    }
   ],
   "source": [
    "# Exercise 9 - Create a code cell to convert minutes to hours. (2 pts)\n",
    "# Convert Mins to Hours\n",
    "200/60"
   ]
  },
  {
   "cell_type": "markdown",
   "id": "5a18ac30-16f5-4ac2-9426-e73fb777b17c",
   "metadata": {},
   "source": [
    "Exercise 10 -Insert a markdown cell to list Objectives.\n",
    "\n",
    "**Objectives** are listed above."
   ]
  },
  {
   "cell_type": "markdown",
   "id": "35d21c5a-c533-4894-a790-a21c30d1aee7",
   "metadata": {},
   "source": [
    "Exercise 11 - Create a markdown cell to indicate the Author’s name. (2 pts)\n",
    "\n",
    "## Author\n",
    "Bill Moto"
   ]
  },
  {
   "cell_type": "code",
   "execution_count": null,
   "id": "532997e2-a9e4-493b-90e5-4aadf268c87d",
   "metadata": {},
   "outputs": [],
   "source": []
  }
 ],
 "metadata": {
  "kernelspec": {
   "display_name": "Python 3 (ipykernel)",
   "language": "python",
   "name": "python3"
  },
  "language_info": {
   "codemirror_mode": {
    "name": "ipython",
    "version": 3
   },
   "file_extension": ".py",
   "mimetype": "text/x-python",
   "name": "python",
   "nbconvert_exporter": "python",
   "pygments_lexer": "ipython3",
   "version": "3.9.5"
  }
 },
 "nbformat": 4,
 "nbformat_minor": 5
}
